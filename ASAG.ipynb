{
 "cells": [
  {
   "cell_type": "code",
   "execution_count": 1,
   "id": "b67476e3",
   "metadata": {},
   "outputs": [],
   "source": [
    "from math import sqrt\n",
    "import numpy as np\n",
    "import scipy\n",
    "from scipy.stats import spearmanr\n",
    "from sklearn.metrics import mean_squared_error\n",
    "from sklearn.preprocessing import MinMaxScaler\n",
    "import pandas as pd\n",
    "from sklearn.linear_model import LinearRegression, Ridge\n",
    "from sklearn.isotonic import IsotonicRegression"
   ]
  },
  {
   "cell_type": "code",
   "execution_count": 6,
   "id": "6216b462",
   "metadata": {},
   "outputs": [],
   "source": [
    "import warnings\n",
    "warnings.filterwarnings('ignore')"
   ]
  },
  {
   "cell_type": "markdown",
   "id": "0dc20d7e",
   "metadata": {},
   "source": [
    "## Evaluation Metrics"
   ]
  },
  {
   "cell_type": "code",
   "execution_count": 2,
   "id": "f811b9a7",
   "metadata": {},
   "outputs": [],
   "source": [
    "# Metrics functions : rmse and pearson correlation\n",
    "def RMSE(actual, pred):\n",
    "    return sqrt(mean_squared_error(actual, pred))\n",
    "\n",
    "def Pearson(actual,pred):\n",
    "    mean_a = sum(actual) / len(actual)\n",
    "    mean_p = sum(pred) / len(pred)\n",
    "    cov = sum((a - mean_a) * (b - mean_p) for (a, b) in zip(actual, pred)) / len(actual)\n",
    "    p = float(cov / (np.std(actual) * np.std(pred)))\n",
    "    return p"
   ]
  },
  {
   "cell_type": "markdown",
   "id": "93830218",
   "metadata": {},
   "source": [
    "## Regression Models"
   ]
  },
  {
   "cell_type": "code",
   "execution_count": 3,
   "id": "ce7dadcf",
   "metadata": {},
   "outputs": [],
   "source": [
    "def linear_reg(xTrain,yTrain,xTest):\n",
    "    xTrain = check_nan(xTrain.to_numpy().reshape(-1,1))\n",
    "    yTrain = check_nan(yTrain.to_numpy().reshape(-1, 1))\n",
    "    xTest = check_nan(xTest.to_numpy().reshape(-1, 1))\n",
    "\n",
    "    model = LinearRegression()\n",
    "    model.fit(xTrain, yTrain)\n",
    "    y_pred = model.predict(xTest)\n",
    "    return y_pred\n",
    "\n",
    "def isotonic_reg(xTrain,yTrain,xTest):\n",
    "    xTrain = xTrain.to_list()\n",
    "    yTrain = yTrain.to_list()\n",
    "    xTest = xTest.to_list()\n",
    "\n",
    "    model = IsotonicRegression()\n",
    "    model.fit(xTrain, yTrain)\n",
    "    y_pred = model.predict(xTest)\n",
    "    return y_pred\n",
    "\n",
    "def ridge_reg(xTrain, yTrain, xTest):\n",
    "    xTrain = check_nan(xTrain.to_numpy().reshape(-1, 1))\n",
    "    yTrain = check_nan(yTrain.to_numpy().reshape(-1, 1))\n",
    "    xTest = check_nan(xTest.to_numpy().reshape(-1, 1))\n",
    "\n",
    "    model = Ridge()\n",
    "    model.fit(xTrain, yTrain)\n",
    "    y_pred = model.predict(xTest)\n",
    "    return y_pred"
   ]
  },
  {
   "cell_type": "markdown",
   "id": "ec22f8ef",
   "metadata": {},
   "source": [
    "## Evaluation\n",
    "The similarity scores are used as data to train different regression models."
   ]
  },
  {
   "cell_type": "code",
   "execution_count": 4,
   "id": "195938b4",
   "metadata": {},
   "outputs": [],
   "source": [
    "def avg(l):\n",
    "    return sum(l) / len(l)\n",
    "\n",
    "def check_nan(arr):\n",
    "    idx_NaN = np.isnan(arr)\n",
    "    arr[idx_NaN] = 0\n",
    "    return arr"
   ]
  },
  {
   "cell_type": "code",
   "execution_count": 8,
   "id": "181f86db",
   "metadata": {},
   "outputs": [],
   "source": [
    "def evaluate_models(mdl, df):\n",
    "    mask = np.random.rand(len(df)) < (70 / 100)\n",
    "    dataTrain = df[mask]\n",
    "    dataTest = df[~mask]\n",
    "\n",
    "    mdl_score = 'normalized_' + mdl.lower() + '_score'\n",
    "    xTrain = dataTrain[mdl_score]\n",
    "    xTest = dataTest[mdl_score]\n",
    "    yTrain = dataTrain['score_avg']\n",
    "    yTest = dataTest['score_avg'].to_list()\n",
    "\n",
    "    linear_yPred = [float(x) for x in linear_reg(xTrain,yTrain,xTest)]\n",
    "    ridge_yPred = [float(x) for x in ridge_reg(xTrain,yTrain,xTest)]\n",
    "    isotonic_yPred = list(np.nan_to_num(isotonic_reg(xTrain,yTrain,xTest), nan=0))\n",
    "\n",
    "    y = check_nan(np.asarray(yTest))\n",
    "    isotonic_pred = check_nan(np.asarray([round(i*2)/2  for i in isotonic_yPred]))\n",
    "    linear_pred = check_nan(np.asarray([round(i*2)/2  for i in linear_yPred]))\n",
    "    ridge_pred = check_nan(np.asarray([round(i*2)/2  for i in ridge_yPred]))\n",
    "\n",
    "    return RMSE(y,isotonic_pred), Pearson(y,isotonic_pred), RMSE(y,linear_pred), Pearson(y,linear_pred), RMSE(y,ridge_pred), Pearson(y,ridge_pred)"
   ]
  },
  {
   "cell_type": "code",
   "execution_count": 9,
   "id": "c39ffe00",
   "metadata": {},
   "outputs": [
    {
     "name": "stdout",
     "output_type": "stream",
     "text": [
      "Evaluation Results:\n",
      "BERT\n",
      "Isotonic Regression \t ==> \t RMSE : 1.057  \t Pearson Correlation : 0.304\n",
      "Linear Regression \t ==> \t RMSE : 1.078  \t Pearson Correlation : 0.246\n",
      "Ridge Regression \t ==> \t RMSE : 1.075  \t Pearson Correlation : 0.249\n",
      "ELMO\n",
      "Isotonic Regression \t ==> \t RMSE : 0.981  \t Pearson Correlation : 0.47\n",
      "Linear Regression \t ==> \t RMSE : 0.993  \t Pearson Correlation : 0.443\n",
      "Ridge Regression \t ==> \t RMSE : 0.994  \t Pearson Correlation : 0.442\n",
      "GPT\n",
      "Isotonic Regression \t ==> \t RMSE : 1.082  \t Pearson Correlation : 0.232\n",
      "Linear Regression \t ==> \t RMSE : 1.089  \t Pearson Correlation : 0.195\n",
      "Ridge Regression \t ==> \t RMSE : 1.09  \t Pearson Correlation : 0.189\n",
      "GPT2\n",
      "Isotonic Regression \t ==> \t RMSE : 1.066  \t Pearson Correlation : 0.292\n",
      "Linear Regression \t ==> \t RMSE : 1.079  \t Pearson Correlation : 0.248\n",
      "Ridge Regression \t ==> \t RMSE : 1.081  \t Pearson Correlation : 0.241\n",
      "UNIVERSAL\n",
      "Isotonic Regression \t ==> \t RMSE : 0.988  \t Pearson Correlation : 0.46\n",
      "Linear Regression \t ==> \t RMSE : 0.979  \t Pearson Correlation : 0.469\n",
      "Ridge Regression \t ==> \t RMSE : 0.978  \t Pearson Correlation : 0.47\n",
      "ROBERTA\n",
      "Isotonic Regression \t ==> \t RMSE : 1.08  \t Pearson Correlation : 0.246\n",
      "Linear Regression \t ==> \t RMSE : 1.09  \t Pearson Correlation : 0.196\n",
      "Ridge Regression \t ==> \t RMSE : 1.089  \t Pearson Correlation : 0.198\n",
      "XLNET\n",
      "Isotonic Regression \t ==> \t RMSE : 1.108  \t Pearson Correlation : 0.152\n",
      "Linear Regression \t ==> \t RMSE : 1.108  \t Pearson Correlation : 0.121\n",
      "Ridge Regression \t ==> \t RMSE : 1.108  \t Pearson Correlation : 0.124\n"
     ]
    }
   ],
   "source": [
    "df = pd.read_csv('dataset/answers_with_similarity_score.csv')\n",
    "print(\"Evaluation Results:\")\n",
    "models=[\"bert\",\"elmo\",\"gpt\",\"gpt2\",\"universal\", \"roberta\",\"xlnet\"]\n",
    "for m in models:\n",
    "    print(m.upper())\n",
    "    rmse_iso,rmse_lin,rmse_rid = [],[],[]\n",
    "    pc_iso, pc_lin, pc_rid = [], [],[]\n",
    "\n",
    "    for i in range(0, 1000):\n",
    "        iso_rmse_score, iso_pc_score, lin_rmse_score, lin_pc_score, rid_rmse_score, rid_pc_score = evaluate_models(m,df)\n",
    "        rmse_iso.append(iso_rmse_score)\n",
    "        pc_iso.append(iso_pc_score)\n",
    "\n",
    "        rmse_lin.append(lin_rmse_score)\n",
    "        pc_lin.append(lin_pc_score)\n",
    "        \n",
    "        rmse_rid.append(rid_rmse_score)\n",
    "        pc_rid.append(rid_pc_score)\n",
    "\n",
    "\n",
    "    print(\"Isotonic Regression \\t ==> \\t RMSE :\",round(avg(rmse_iso), 3),\" \\t Pearson Correlation :\", round(avg(pc_iso), 3))\n",
    "    print(\"Linear Regression \\t ==> \\t RMSE :\",round(avg(rmse_lin), 3),\" \\t Pearson Correlation :\", round(avg(pc_lin), 3))\n",
    "    print(\"Ridge Regression \\t ==> \\t RMSE :\",round(avg(rmse_rid), 3),\" \\t Pearson Correlation :\", round(avg(pc_rid), 3))"
   ]
  }
 ],
 "metadata": {
  "kernelspec": {
   "display_name": "Python 3.8.5 ('base')",
   "language": "python",
   "name": "python3"
  },
  "language_info": {
   "codemirror_mode": {
    "name": "ipython",
    "version": 3
   },
   "file_extension": ".py",
   "mimetype": "text/x-python",
   "name": "python",
   "nbconvert_exporter": "python",
   "pygments_lexer": "ipython3",
   "version": "3.8.5"
  },
  "vscode": {
   "interpreter": {
    "hash": "df560c05323c9730e2a55e75eb7bf0794769fa034975626599d0b908294af2ab"
   }
  }
 },
 "nbformat": 4,
 "nbformat_minor": 5
}
